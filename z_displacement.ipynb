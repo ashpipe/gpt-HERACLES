{
 "cells": [
  {
   "cell_type": "code",
   "execution_count": 1,
   "id": "9f391522",
   "metadata": {
    "execution": {
     "iopub.execute_input": "2021-04-08T14:42:07.397883Z",
     "iopub.status.busy": "2021-04-08T14:42:07.397180Z",
     "iopub.status.idle": "2021-04-08T14:42:10.565481Z",
     "shell.execute_reply": "2021-04-08T14:42:10.564079Z",
     "shell.execute_reply.started": "2021-04-08T14:42:07.397708Z"
    },
    "tags": []
   },
   "outputs": [],
   "source": [
    "from gpt import GPT\n",
    "from distgen import Generator\n",
    "import numpy as np\n",
    "import matplotlib.pyplot as plt\n",
    "\n",
    "plt.rcParams.update(\n",
    "    {\"font.size\": 20, \"lines.linewidth\": 2.5, \"figure.figsize\": (10, 6)}\n",
    ")\n",
    "from scipy.io import loadmat"
   ]
  },
  {
   "cell_type": "code",
   "execution_count": 2,
   "id": "d054592d",
   "metadata": {
    "execution": {
     "iopub.execute_input": "2021-04-08T14:43:05.317262Z",
     "iopub.status.busy": "2021-04-08T14:43:05.316667Z",
     "iopub.status.idle": "2021-04-08T14:43:05.404588Z",
     "shell.execute_reply": "2021-04-08T14:43:05.402829Z",
     "shell.execute_reply.started": "2021-04-08T14:43:05.317196Z"
    }
   },
   "outputs": [],
   "source": [
    "exp_1xt = loadmat(\n",
    "    \"/nfs/bbl/online/epics/ScriptsB24/SolenoidScan/data_04-06-2021/1st_screen_final2/s.mat\"\n",
    ")\n",
    "exp_3rd = loadmat(\n",
    "    \"/nfs/bbl/online/epics/ScriptsB24/SolenoidScan/data_03-25-2021/500um/s.mat\"\n",
    ")"
   ]
  },
  {
   "cell_type": "code",
   "execution_count": 3,
   "id": "f964d4e1",
   "metadata": {
    "execution": {
     "iopub.execute_input": "2021-04-08T14:44:21.575828Z",
     "iopub.status.busy": "2021-04-08T14:44:21.575191Z",
     "iopub.status.idle": "2021-04-08T14:44:21.782104Z",
     "shell.execute_reply": "2021-04-08T14:44:21.780337Z",
     "shell.execute_reply.started": "2021-04-08T14:44:21.575755Z"
    }
   },
   "outputs": [
    {
     "name": "stdout",
     "output_type": "stream",
     "text": [
      "<disgten.Generator with input: \n",
      "n_particle: 10000\n",
      "output:\n",
      "  file: rad.uniform.out.txt\n",
      "  type: gpt\n",
      "r_dist:\n",
      "  max_r:\n",
      "    units: mm\n",
      "    value: 1.0\n",
      "  min_r:\n",
      "    units: mm\n",
      "    value: 0\n",
      "  type: radial_uniform\n",
      "random_type: hammersley\n",
      "start:\n",
      "  MTE:\n",
      "    units: meV\n",
      "    value: 100\n",
      "  type: cathode\n",
      "t_dist:\n",
      "  max_t:\n",
      "    units: ps\n",
      "    value: 150\n",
      "  min_t:\n",
      "    units: ps\n",
      "    value: -150\n",
      "  type: uniform\n",
      "total_charge:\n",
      "  units: pC\n",
      "  value: 15\n",
      "transforms:\n",
      "  order:\n",
      "  - t1\n",
      "  t1:\n",
      "    delta:\n",
      "      units: mm\n",
      "      value: 0.1\n",
      "    type: translate z\n",
      "\n",
      ">\n"
     ]
    }
   ],
   "source": [
    "# Uniform initial distribution\n",
    "gen = Generator(\"beamline/uniform.in.yaml\", verbose=0)\n",
    "gen[\"start:MTE:value\"] = 100\n",
    "gen[\"r_dist:max_r:value\"] = 1.\n",
    "\n",
    "transx = {\"type\": \"translate x\", \"delta\":{\"value\":6, \"units\":\"mm\"}}\n",
    "transz = {\"type\": \"translate z\", \"delta\":{\"value\":0.1, \"units\":\"mm\"}}\n",
    "gen.input[\"transforms\"] = {\"t1\":transz, \"order\": [\"t1\"]}\n",
    "\n",
    "gen.run()\n",
    "print(gen)"
   ]
  },
  {
   "cell_type": "code",
   "execution_count": 10,
   "id": "fd23e5a7",
   "metadata": {
    "execution": {
     "iopub.execute_input": "2021-04-08T14:54:32.382082Z",
     "iopub.status.busy": "2021-04-08T14:54:32.381427Z",
     "iopub.status.idle": "2021-04-08T14:54:44.030551Z",
     "shell.execute_reply": "2021-04-08T14:54:44.028932Z",
     "shell.execute_reply.started": "2021-04-08T14:54:32.382015Z"
    },
    "tags": []
   },
   "outputs": [
    {
     "name": "stdout",
     "output_type": "stream",
     "text": [
      "0.0\n",
      "0.25\n",
      "0.5\n"
     ]
    }
   ],
   "source": [
    "## Scan\n",
    "\n",
    "# Set scan range\n",
    "zoff = np.linspace(-0.5, 0.5, num =3)\n",
    "sol_current = np.linspace(1, 4, num=10)\n",
    "sig_x = np.zeros((len(zoff), len(sol_current)))\n",
    "\n",
    "# Start Loop\n",
    "for zind in range(len(zoff)):\n",
    "    print(zind)\n",
    "    gen[\"transforms:t1:delta:value\"] = float(zoff[zind])\n",
    "    gen.run()\n",
    "    G = GPT(input_file=\"beamline/beamline.in\", initial_particles=gen.particles)\n",
    "    \n",
    "    # scan current\n",
    "    for cur_ind in range(len(sol_current))\n",
    "        G.set_variables({\"sol01_current\": sol_current[cur_ind]})\n",
    "        G.run()\n",
    "        sig_x[zind, cur_ind] = G.stat(\"sigma_x\",\"screen\")[0]"
   ]
  },
  {
   "cell_type": "code",
   "execution_count": 11,
   "id": "e89c9d39",
   "metadata": {
    "execution": {
     "iopub.execute_input": "2021-04-08T14:54:44.822420Z",
     "iopub.status.busy": "2021-04-08T14:54:44.821891Z",
     "iopub.status.idle": "2021-04-08T14:54:45.117299Z",
     "shell.execute_reply": "2021-04-08T14:54:45.116320Z",
     "shell.execute_reply.started": "2021-04-08T14:54:44.822352Z"
    },
    "tags": []
   },
   "outputs": [
    {
     "data": {
      "text/plain": [
       "[<matplotlib.lines.Line2D at 0x7fa01109b3d0>]"
      ]
     },
     "execution_count": 11,
     "metadata": {},
     "output_type": "execute_result"
    },
    {
     "data": {
      "image/png": "[encoded data removed]",
      "text/plain": [
       "<Figure size 720x432 with 1 Axes>"
      ]
     },
     "metadata": {
      "needs_background": "light"
     },
     "output_type": "display_data"
    }
   ],
   "source": [
    "plt.plot(zoff, sig_x, label=r\"simulation $\\sigma_x$\")"
   ]
  },
  {
   "cell_type": "code",
   "execution_count": 12,
   "id": "2b79ac7f",
   "metadata": {
    "execution": {
     "iopub.execute_input": "2021-04-08T17:09:17.413180Z",
     "iopub.status.busy": "2021-04-08T17:09:17.412533Z",
     "iopub.status.idle": "2021-04-08T17:09:17.432227Z",
     "shell.execute_reply": "2021-04-08T17:09:17.430591Z",
     "shell.execute_reply.started": "2021-04-08T17:09:17.413107Z"
    },
    "tags": []
   },
   "outputs": [
    {
     "data": {
      "text/plain": [
       "<disgten.Generator with input: \n",
       "n_particle: 10000\n",
       "output:\n",
       "  file: rad.uniform.out.txt\n",
       "  type: gpt\n",
       "r_dist:\n",
       "  max_r:\n",
       "    units: mm\n",
       "    value: 1.0\n",
       "  min_r:\n",
       "    units: mm\n",
       "    value: 0\n",
       "  type: radial_uniform\n",
       "random_type: hammersley\n",
       "start:\n",
       "  MTE:\n",
       "    units: meV\n",
       "    value: 100\n",
       "  type: cathode\n",
       "t_dist:\n",
       "  max_t:\n",
       "    units: ps\n",
       "    value: 150\n",
       "  min_t:\n",
       "    units: ps\n",
       "    value: -150\n",
       "  type: uniform\n",
       "total_charge:\n",
       "  units: pC\n",
       "  value: 15\n",
       "transforms:\n",
       "  order:\n",
       "  - t1\n",
       "  t1:\n",
       "    delta:\n",
       "      units: mm\n",
       "      value: 0.5\n",
       "    type: translate z\n",
       "\n",
       ">"
      ]
     },
     "execution_count": 12,
     "metadata": {},
     "output_type": "execute_result"
    }
   ],
   "source": [
    "gen"
   ]
  }
 ],
 "metadata": {
  "kernelspec": {
   "display_name": "Python 3 (ipykernel)",
   "language": "python",
   "name": "python3"
  },
  "language_info": {
   "codemirror_mode": {
    "name": "ipython",
    "version": 3
   },
   "file_extension": ".py",
   "mimetype": "text/x-python",
   "name": "python",
   "nbconvert_exporter": "python",
   "pygments_lexer": "ipython3",
   "version": "3.9.13"
  }
 },
 "nbformat": 4,
 "nbformat_minor": 5
}
