{
 "cells": [
  {
   "cell_type": "code",
   "execution_count": 1,
   "metadata": {},
   "outputs": [],
   "source": [
    "import numpy as np\n",
    "import h5py\n",
    "import datetime"
   ]
  },
  {
   "cell_type": "code",
   "execution_count": 4,
   "metadata": {},
   "outputs": [],
   "source": [
    "class data:\n",
    "    def __init__(self, fn=\"data.h5\") -> None:\n",
    "        self.fn = fn\n",
    "\n",
    "    def read(self):\n",
    "        f = h5py.File(self.fn, \"r\")\n",
    "        data = f[\"dataset_0\"][:]\n",
    "        f.close\n",
    "        return data\n",
    "\n",
    "    def write(self, arr: np.ndarray):\n",
    "\n",
    "        with h5py.File(self.fn, \"w\") as f:\n",
    "            dset = f.create_dataset(\"dataset_0\", data=arr)"
   ]
  },
  {
   "cell_type": "code",
   "execution_count": 28,
   "metadata": {},
   "outputs": [
    {
     "data": {
      "text/plain": [
       "array([[4.75209392e+02, 5.57413546e-01, 2.32276508e+00],\n",
       "       [4.75209392e+02, 5.57413546e-01, 5.11232153e+00],\n",
       "       [2.41893040e+02, 5.57413546e-01, 2.32276508e+00],\n",
       "       [2.41893040e+02, 5.57413546e-01, 5.11232153e+00],\n",
       "       [4.75209392e+02, 3.70146771e-01, 2.32276508e+00],\n",
       "       [4.75209392e+02, 3.70146771e-01, 5.11232153e+00],\n",
       "       [2.41893040e+02, 3.70146771e-01, 2.32276508e+00],\n",
       "       [2.41893040e+02, 3.70146771e-01, 5.11232153e+00]])"
      ]
     },
     "execution_count": 28,
     "metadata": {},
     "output_type": "execute_result"
    }
   ],
   "source": [
    "dt = data(fn=\"xdata.h5\")\n",
    "xdataset = dt.read()\n",
    "xdataset"
   ]
  },
  {
   "cell_type": "code",
   "execution_count": 29,
   "metadata": {},
   "outputs": [
    {
     "data": {
      "text/plain": [
       "array([[0.05070365, 0.22613076, 0.17752049, 0.64621268],\n",
       "       [0.33512654, 1.89120186, 1.06543545, 6.02611751],\n",
       "       [0.04590897, 0.21981012, 0.14708879, 0.57816782],\n",
       "       [0.3176747 , 1.79074639, 0.90855552, 5.13208068],\n",
       "       [0.04088424, 0.159933  , 0.15532755, 0.51433279],\n",
       "       [0.24935049, 1.4108623 , 0.88690302, 5.02801266],\n",
       "       [0.03471171, 0.15104003, 0.12424117, 0.435834  ],\n",
       "       [0.22556225, 1.27394756, 0.72916709, 4.1316504 ]])"
      ]
     },
     "execution_count": 29,
     "metadata": {},
     "output_type": "execute_result"
    }
   ],
   "source": [
    "dt = data(fn=\"ydata.h5\")\n",
    "ydataset = dt.read()\n",
    "ydataset"
   ]
  },
  {
   "cell_type": "code",
   "execution_count": 24,
   "metadata": {},
   "outputs": [
    {
     "data": {
      "text/plain": [
       "'0913-1636_run'"
      ]
     },
     "execution_count": 24,
     "metadata": {},
     "output_type": "execute_result"
    }
   ],
   "source": [
    "datetime.datetime.now().strftime(\"%m%d-%H%M_run\")"
   ]
  },
  {
   "cell_type": "code",
   "execution_count": 23,
   "metadata": {},
   "outputs": [
    {
     "name": "stdout",
     "output_type": "stream",
     "text": [
      "0.5488135039273248\n"
     ]
    },
    {
     "data": {
      "text/plain": [
       "36.48892074897334"
      ]
     },
     "execution_count": 23,
     "metadata": {},
     "output_type": "execute_result"
    }
   ],
   "source": [
    "np.random.seed(0)\n",
    "print(np.random.rand())\n",
    "np.random.default_rng().uniform(27,100, 1)[0]"
   ]
  },
  {
   "cell_type": "code",
   "execution_count": 25,
   "metadata": {},
   "outputs": [
    {
     "data": {
      "text/plain": [
       "1"
      ]
     },
     "execution_count": 25,
     "metadata": {},
     "output_type": "execute_result"
    }
   ],
   "source": [
    "201%200"
   ]
  },
  {
   "cell_type": "code",
   "execution_count": null,
   "metadata": {},
   "outputs": [],
   "source": []
  }
 ],
 "metadata": {
  "kernelspec": {
   "display_name": "Python 3.10.6 ('gpt')",
   "language": "python",
   "name": "python3"
  },
  "language_info": {
   "codemirror_mode": {
    "name": "ipython",
    "version": 3
   },
   "file_extension": ".py",
   "mimetype": "text/x-python",
   "name": "python",
   "nbconvert_exporter": "python",
   "pygments_lexer": "ipython3",
   "version": "3.10.6"
  },
  "orig_nbformat": 4,
  "vscode": {
   "interpreter": {
    "hash": "59f8613e2e2380292f12a75ef1b2aab84f2326357ff0372a1c6f78fee8c4b0ca"
   }
  }
 },
 "nbformat": 4,
 "nbformat_minor": 2
}
