{
 "cells": [
  {
   "cell_type": "code",
   "execution_count": 26,
   "metadata": {},
   "outputs": [],
   "source": [
    "import numpy as np\n",
    "import h5py\n",
    "import datetime"
   ]
  },
  {
   "cell_type": "code",
   "execution_count": 27,
   "metadata": {},
   "outputs": [],
   "source": [
    "class data:\n",
    "    def __init__(self, fn=\"data.h5\") -> None:\n",
    "        self.fn = fn\n",
    "\n",
    "    def read(self):\n",
    "        f = h5py.File(self.fn, \"r\")\n",
    "        data = f[\"dataset_0\"][:]\n",
    "        f.close\n",
    "        return data\n",
    "\n",
    "    def write(self, arr: np.ndarray):\n",
    "\n",
    "        with h5py.File(self.fn, \"w\") as f:\n",
    "            dset = f.create_dataset(\"dataset_0\", data=arr)"
   ]
  },
  {
   "cell_type": "code",
   "execution_count": 32,
   "metadata": {},
   "outputs": [
    {
     "name": "stdout",
     "output_type": "stream",
     "text": [
      "2\n"
     ]
    },
    {
     "data": {
      "text/plain": [
       "array([[3.29094054e+02, 5.92318763e-01, 4.68380950e+00],\n",
       "       [1.37003165e+03, 8.62230279e-01, 5.27562944e+00]])"
      ]
     },
     "execution_count": 32,
     "metadata": {},
     "output_type": "execute_result"
    }
   ],
   "source": [
    "dt = data(fn=\"xdata.h5\")\n",
    "xdataset = dt.read()\n",
    "print(len(xdataset))\n",
    "xdataset"
   ]
  },
  {
   "cell_type": "code",
   "execution_count": 33,
   "metadata": {},
   "outputs": [
    {
     "name": "stdout",
     "output_type": "stream",
     "text": [
      "2\n"
     ]
    },
    {
     "data": {
      "text/plain": [
       "array([[ 0.2681262 ,  1.60878407,  0.78589461,  4.73642015],\n",
       "       [ 0.57771306,  3.19705127,  1.92329521, 10.62639397]])"
      ]
     },
     "execution_count": 33,
     "metadata": {},
     "output_type": "execute_result"
    }
   ],
   "source": [
    "dt = data(fn=\"ydata.h5\")\n",
    "ydataset = dt.read()\n",
    "print(len(ydataset))\n",
    "ydataset"
   ]
  },
  {
   "cell_type": "code",
   "execution_count": 24,
   "metadata": {},
   "outputs": [
    {
     "data": {
      "text/plain": [
       "'0913-1636_run'"
      ]
     },
     "execution_count": 24,
     "metadata": {},
     "output_type": "execute_result"
    }
   ],
   "source": [
    "datetime.datetime.now().strftime(\"%m%d-%H%M_run\")"
   ]
  },
  {
   "cell_type": "code",
   "execution_count": 23,
   "metadata": {},
   "outputs": [
    {
     "name": "stdout",
     "output_type": "stream",
     "text": [
      "0.5488135039273248\n"
     ]
    },
    {
     "data": {
      "text/plain": [
       "36.48892074897334"
      ]
     },
     "execution_count": 23,
     "metadata": {},
     "output_type": "execute_result"
    }
   ],
   "source": [
    "np.random.seed(0)\n",
    "print(np.random.rand())\n",
    "np.random.default_rng().uniform(27,100, 1)[0]"
   ]
  },
  {
   "cell_type": "code",
   "execution_count": null,
   "metadata": {},
   "outputs": [],
   "source": []
  }
 ],
 "metadata": {
  "kernelspec": {
   "display_name": "Python 3.10.6 ('gpt')",
   "language": "python",
   "name": "python3"
  },
  "language_info": {
   "codemirror_mode": {
    "name": "ipython",
    "version": 3
   },
   "file_extension": ".py",
   "mimetype": "text/x-python",
   "name": "python",
   "nbconvert_exporter": "python",
   "pygments_lexer": "ipython3",
   "version": "3.10.6"
  },
  "orig_nbformat": 4,
  "vscode": {
   "interpreter": {
    "hash": "59f8613e2e2380292f12a75ef1b2aab84f2326357ff0372a1c6f78fee8c4b0ca"
   }
  }
 },
 "nbformat": 4,
 "nbformat_minor": 2
}
