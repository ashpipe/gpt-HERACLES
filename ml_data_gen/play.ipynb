{
 "cells": [
  {
   "cell_type": "code",
   "execution_count": 19,
   "metadata": {},
   "outputs": [],
   "source": [
    "import numpy as np\n",
    "import h5py\n",
    "import datetime"
   ]
  },
  {
   "cell_type": "code",
   "execution_count": 4,
   "metadata": {},
   "outputs": [],
   "source": [
    "class data:\n",
    "    def __init__(self, fn=\"data.h5\") -> None:\n",
    "        self.fn = fn\n",
    "\n",
    "    def read(self):\n",
    "        f = h5py.File(self.fn, \"r\")\n",
    "        data = f[\"dataset_0\"][:]\n",
    "        f.close\n",
    "        return data\n",
    "\n",
    "    def write(self, arr: np.ndarray):\n",
    "\n",
    "        with h5py.File(self.fn, \"w\") as f:\n",
    "            dset = f.create_dataset(\"dataset_0\", data=arr)"
   ]
  },
  {
   "cell_type": "code",
   "execution_count": 17,
   "metadata": {},
   "outputs": [
    {
     "data": {
      "text/plain": [
       "array([[ 27.  ,   0.  ],\n",
       "       [ 27.  ,   1.85],\n",
       "       [ 27.  ,   3.7 ],\n",
       "       [263.5 ,   0.  ],\n",
       "       [263.5 ,   1.85],\n",
       "       [263.5 ,   3.7 ],\n",
       "       [500.  ,   0.  ],\n",
       "       [500.  ,   1.85],\n",
       "       [500.  ,   3.7 ]])"
      ]
     },
     "execution_count": 17,
     "metadata": {},
     "output_type": "execute_result"
    }
   ],
   "source": [
    "dt = data(fn=\"xdata.h5\")\n",
    "xdataset = dt.read()\n",
    "xdataset"
   ]
  },
  {
   "cell_type": "code",
   "execution_count": 18,
   "metadata": {},
   "outputs": [
    {
     "data": {
      "text/plain": [
       "array([[0.19980746, 0.30904381, 0.44546646, 0.70568861],\n",
       "       [0.10919707, 0.08565723, 0.24565611, 0.17560955],\n",
       "       [0.14797282, 1.2010583 , 0.32159301, 2.62471043],\n",
       "       [0.20836658, 0.32784309, 0.57217135, 0.94106835],\n",
       "       [0.11468662, 0.08595205, 0.32025944, 0.18716995],\n",
       "       [0.15164537, 1.23575275, 0.39504617, 3.25976262],\n",
       "       [0.21658159, 0.345609  , 0.6496303 , 1.09614251],\n",
       "       [0.11992153, 0.08623806, 0.36772186, 0.19384779],\n",
       "       [0.15524576, 1.26958949, 0.4371035 , 3.61895319]])"
      ]
     },
     "execution_count": 18,
     "metadata": {},
     "output_type": "execute_result"
    }
   ],
   "source": [
    "dt = data(fn=\"ydata.h5\")\n",
    "ydataset = dt.read()\n",
    "ydataset"
   ]
  },
  {
   "cell_type": "code",
   "execution_count": 24,
   "metadata": {},
   "outputs": [
    {
     "data": {
      "text/plain": [
       "'0913-1636_run'"
      ]
     },
     "execution_count": 24,
     "metadata": {},
     "output_type": "execute_result"
    }
   ],
   "source": [
    "datetime.datetime.now().strftime(\"%m%d-%H%M_run\")"
   ]
  }
 ],
 "metadata": {
  "kernelspec": {
   "display_name": "Python 3.10.6 ('gpt')",
   "language": "python",
   "name": "python3"
  },
  "language_info": {
   "codemirror_mode": {
    "name": "ipython",
    "version": 3
   },
   "file_extension": ".py",
   "mimetype": "text/x-python",
   "name": "python",
   "nbconvert_exporter": "python",
   "pygments_lexer": "ipython3",
   "version": "3.10.6"
  },
  "orig_nbformat": 4,
  "vscode": {
   "interpreter": {
    "hash": "59f8613e2e2380292f12a75ef1b2aab84f2326357ff0372a1c6f78fee8c4b0ca"
   }
  }
 },
 "nbformat": 4,
 "nbformat_minor": 2
}
