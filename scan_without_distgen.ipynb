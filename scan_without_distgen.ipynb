{
 "cells": [
  {
   "cell_type": "code",
   "execution_count": 1,
   "id": "bacc9723",
   "metadata": {
    "execution": {
     "iopub.execute_input": "2021-04-05T20:48:52.878863Z",
     "iopub.status.busy": "2021-04-05T20:48:52.878118Z",
     "iopub.status.idle": "2021-04-05T20:48:55.081440Z",
     "shell.execute_reply": "2021-04-05T20:48:55.079877Z",
     "shell.execute_reply.started": "2021-04-05T20:48:52.878665Z"
    },
    "tags": []
   },
   "outputs": [],
   "source": [
    "from gpt import GPT\n",
    "import numpy as np\n",
    "import matplotlib.pyplot as plt\n",
    "\n",
    "plt.rcParams.update(\n",
    "    {\"font.size\": 20, \"lines.linewidth\": 2.5, \"figure.figsize\": (10, 6)}\n",
    ")\n",
    "from scipy.io import loadmat"
   ]
  },
  {
   "cell_type": "code",
   "execution_count": 2,
   "id": "f8804154",
   "metadata": {
    "execution": {
     "iopub.execute_input": "2021-04-05T20:48:55.487989Z",
     "iopub.status.busy": "2021-04-05T20:48:55.487424Z",
     "iopub.status.idle": "2021-04-05T20:48:55.837103Z",
     "shell.execute_reply": "2021-04-05T20:48:55.835615Z",
     "shell.execute_reply.started": "2021-04-05T20:48:55.487915Z"
    },
    "tags": []
   },
   "outputs": [
    {
     "data": {
      "text/plain": [
       "[<matplotlib.lines.Line2D at 0x7f928337ff10>]"
      ]
     },
     "execution_count": 2,
     "metadata": {},
     "output_type": "execute_result"
    },
    {
     "data": {
      "image/png": "[encoded data removed]",
      "text/plain": [
       "<Figure size 720x432 with 1 Axes>"
      ]
     },
     "metadata": {
      "needs_background": "light"
     },
     "output_type": "display_data"
    }
   ],
   "source": [
    "# Load experimental data\n",
    "exp_data = loadmat(\n",
    "    \"/nfs/bbl/online/epics/ScriptsB24/SolenoidScan/data_03-25-2021/500um/s.mat\"\n",
    ")\n",
    "exp_data[\"sx\"]\n",
    "exp_data[\"sol\"]\n",
    "plt.plot(exp_data[\"sol\"], np.transpose(exp_data[\"sx\"]))"
   ]
  },
  {
   "cell_type": "code",
   "execution_count": 3,
   "id": "aca841c0",
   "metadata": {
    "execution": {
     "iopub.execute_input": "2021-04-05T20:49:10.050220Z",
     "iopub.status.busy": "2021-04-05T20:49:10.049615Z",
     "iopub.status.idle": "2021-04-05T20:49:10.073249Z",
     "shell.execute_reply": "2021-04-05T20:49:10.071703Z",
     "shell.execute_reply.started": "2021-04-05T20:49:10.050154Z"
    },
    "tags": []
   },
   "outputs": [
    {
     "name": "stdout",
     "output_type": "stream",
     "text": [
      "GPT.configure_gpt:\n",
      "   Original input file \"beamline_wo_distgen.in\" in \"/nfs/user/jb2483/big_gun/beamline\"\n",
      "   Configured to run in \"/tmp/tmppeuk50py\"\n"
     ]
    },
    {
     "data": {
      "text/plain": [
       "{'distgen': 0.0,\n",
       " 'radius': 0.0007,\n",
       " 'tlen': 3e-10,\n",
       " 'RadiusMax': 1.0,\n",
       " 'dtmax': 1e-10,\n",
       " 'gun_voltage': 200.0,\n",
       " 'Maxdcgun': 500.0,\n",
       " 'sol01_current': 2.8,\n",
       " 'ZSLA01': 0.338,\n",
       " 'sol02_current': 3.0,\n",
       " 'ZSLA02': 2.33,\n",
       " 'SLAPolarity': 1.0,\n",
       " 'space_charge': 0.0,\n",
       " 'space_charge_type': 1.0,\n",
       " 'Alpha': 1.0,\n",
       " 'Fn': 0.5,\n",
       " 'verror': 0.005,\n",
       " 'Nstd': 5.0,\n",
       " 'tree_code_theta': 1.0,\n",
       " 'tree_code_R': 1e-06,\n",
       " 'npts': 20.0,\n",
       " 'tend': 1.6e-08,\n",
       " 'zend': 2.736,\n",
       " 'zstart': -1e-06}"
      ]
     },
     "execution_count": 3,
     "metadata": {},
     "output_type": "execute_result"
    }
   ],
   "source": [
    "G = GPT(input_file=\"beamline/beamline_wo_distgen.in\", verbose=True)\n",
    "G.set_variables({\"distgen\": 0.0})\n",
    "G.input[\"variables\"]"
   ]
  },
  {
   "cell_type": "code",
   "execution_count": 4,
   "id": "27f6a573",
   "metadata": {
    "execution": {
     "iopub.execute_input": "2021-04-05T20:49:11.086037Z",
     "iopub.status.busy": "2021-04-05T20:49:11.085431Z",
     "iopub.status.idle": "2021-04-05T20:49:14.361912Z",
     "shell.execute_reply": "2021-04-05T20:49:14.360842Z",
     "shell.execute_reply.started": "2021-04-05T20:49:11.085965Z"
    },
    "scrolled": true,
    "tags": []
   },
   "outputs": [
    {
     "name": "stdout",
     "output_type": "stream",
     "text": [
      "GPT.run_gpt:\n",
      "   Running GPT...\n",
      "   Writing gpt input file to \"/tmp/tmppeuk50py/beamline_wo_distgen.in\"\n",
      "   Running with timeout = None sec.\n",
      "General Particle Tracer - Apr  3 2019\n",
      "MPI usage: disabled\n",
      "Number of cores: 1\n",
      "Parsing: /tmp/tmppeuk50py/beamline_wo_distgen.in\n",
      "gpt: /tmp/tmppeuk50py/beamline_wo_distgen.in(12): Warning: Scaling by over 2 orders of magnitide\n",
      "\n",
      "gpt: /tmp/tmppeuk50py/beamline_wo_distgen.in(13): Warning: Scaling by over 2 orders of magnitide\n",
      "\n",
      "Coordinate system \"wcs\" contains 0 local, 4 global and 1 boundary elements\n",
      "Particle set \"beam\" contains 10000 particles\n",
      "Starting time is set to -1.499822e-10\n",
      "    1: t=-1.499822e-10, dt=1.000000e-16\n",
      "    1: t=-1.499821e-10, dt=5.000000e-16\n",
      "    1: t=-1.499816e-10, dt=2.500000e-15\n",
      "    1: t=-1.499791e-10, dt=1.250000e-14\n",
      "    4: t=-1.499666e-10, dt=6.250000e-14\n",
      "    9: t=-1.499041e-10, dt=1.242952e-13\n",
      "   17: t=-1.497798e-10, dt=2.232071e-13\n",
      "   28: t=-1.495565e-10, dt=3.441253e-13\n",
      "   45: t=-1.492124e-10, dt=4.865457e-13\n",
      "   67: t=-1.487259e-10, dt=6.418731e-13\n",
      "   93: t=-1.480840e-10, dt=8.011423e-13\n",
      "  125: t=-1.472829e-10, dt=9.565728e-13\n",
      "  161: t=-1.463263e-10, dt=1.102363e-12\n",
      "  201: t=-1.452239e-10, dt=1.234838e-12\n",
      "  247: t=-1.439891e-10, dt=1.352192e-12\n",
      "  296: t=-1.426369e-10, dt=1.454055e-12\n",
      "  346: t=-1.411828e-10, dt=1.541044e-12\n",
      "  400: t=-1.396418e-10, dt=1.614367e-12\n",
      "  457: t=-1.380274e-10, dt=1.675530e-12\n",
      "  514: t=-1.363519e-10, dt=1.726124e-12\n",
      "  573: t=-1.346258e-10, dt=1.767697e-12\n",
      "  634: t=-1.328581e-10, dt=1.801676e-12\n",
      "  694: t=-1.310564e-10, dt=1.829328e-12\n",
      "  755: t=-1.292271e-10, dt=1.851755e-12\n",
      "  817: t=-1.273753e-10, dt=1.869895e-12\n",
      "  881: t=-1.255054e-10, dt=1.884534e-12\n",
      "  945: t=-1.236209e-10, dt=1.896328e-12\n",
      " 1008: t=-1.217246e-10, dt=1.905816e-12\n",
      " 1071: t=-1.198187e-10, dt=1.913441e-12\n",
      " 1135: t=-1.179053e-10, dt=1.919563e-12\n",
      " 1200: t=-1.159857e-10, dt=1.924475e-12\n",
      " 1264: t=-1.140613e-10, dt=1.928413e-12\n",
      " 1329: t=-1.121329e-10, dt=1.931569e-12\n",
      " 1392: t=-1.102013e-10, dt=1.934098e-12\n",
      " 1458: t=-1.082672e-10, dt=1.936124e-12\n",
      " 1523: t=-1.063311e-10, dt=1.937746e-12\n",
      " 1588: t=-1.043933e-10, dt=1.939044e-12\n",
      " 1652: t=-1.024543e-10, dt=1.940084e-12\n",
      " 1717: t=-1.005142e-10, dt=1.940916e-12\n",
      " 1780: t=-9.857327e-11, dt=1.941581e-12\n",
      " 1847: t=-9.663169e-11, dt=1.942114e-12\n",
      " 1911: t=-9.468958e-11, dt=1.942540e-12\n",
      " 1975: t=-9.274704e-11, dt=1.942882e-12\n",
      " 2040: t=-9.080416e-11, dt=1.943155e-12\n",
      " 2105: t=-8.886100e-11, dt=1.943373e-12\n",
      " 2170: t=-8.691763e-11, dt=1.943548e-12\n",
      " 2233: t=-8.497408e-11, dt=1.943688e-12\n",
      " 2300: t=-8.303039e-11, dt=1.943799e-12\n",
      " 2363: t=-8.108659e-11, dt=1.943889e-12\n",
      " 2429: t=-7.914270e-11, dt=1.943960e-12\n",
      " 2494: t=-7.719874e-11, dt=1.944018e-12\n",
      " 2558: t=-7.525473e-11, dt=1.944064e-12\n",
      " 2623: t=-7.331066e-11, dt=1.944100e-12\n",
      " 2688: t=-7.136656e-11, dt=1.944130e-12\n",
      " 2754: t=-6.942243e-11, dt=1.944153e-12\n",
      " 2817: t=-6.747828e-11, dt=1.944172e-12\n",
      " 2883: t=-6.553411e-11, dt=1.944187e-12\n",
      " 2947: t=-6.358992e-11, dt=1.944199e-12\n",
      " 3013: t=-6.164572e-11, dt=1.944208e-12\n",
      " 3078: t=-5.970151e-11, dt=1.944216e-12\n",
      " 3142: t=-5.775730e-11, dt=1.944222e-12\n",
      " 3207: t=-5.581308e-11, dt=1.944227e-12\n",
      " 3271: t=-5.386885e-11, dt=1.944231e-12\n",
      " 3338: t=-5.192462e-11, dt=1.944234e-12\n",
      " 3401: t=-4.998038e-11, dt=1.944237e-12\n",
      " 3466: t=-4.803615e-11, dt=1.944239e-12\n",
      " 3531: t=-4.609191e-11, dt=1.944240e-12\n",
      " 3596: t=-4.414767e-11, dt=1.944242e-12\n",
      " 3661: t=-4.220343e-11, dt=1.944243e-12\n",
      " 3725: t=-4.025918e-11, dt=1.944244e-12\n",
      " 3790: t=-3.831494e-11, dt=1.944244e-12\n",
      " 3854: t=-3.637069e-11, dt=1.944245e-12\n",
      " 3921: t=-3.442645e-11, dt=1.944245e-12\n",
      " 3984: t=-3.248221e-11, dt=1.944246e-12\n",
      " 4049: t=-3.053796e-11, dt=1.944246e-12\n",
      " 4114: t=-2.859371e-11, dt=1.944246e-12\n",
      " 4179: t=-2.664947e-11, dt=1.944246e-12\n",
      " 4244: t=-2.470522e-11, dt=1.944246e-12\n",
      " 4308: t=-2.276098e-11, dt=1.944246e-12\n",
      " 4375: t=-2.081673e-11, dt=1.944247e-12\n",
      " 4439: t=-1.887248e-11, dt=1.944247e-12\n",
      " 4505: t=-1.692824e-11, dt=1.944247e-12\n",
      " 4568: t=-1.498399e-11, dt=1.944247e-12\n",
      " 4633: t=-1.303974e-11, dt=1.944247e-12\n",
      " 4697: t=-1.109550e-11, dt=1.944247e-12\n",
      " 4763: t=-9.151249e-12, dt=1.944247e-12\n",
      " 4828: t=-7.207002e-12, dt=1.944247e-12\n",
      " 4891: t=-5.262755e-12, dt=1.944247e-12\n",
      " 4958: t=-3.318509e-12, dt=1.944247e-12\n",
      " 5022: t=-1.374262e-12, dt=1.944247e-12\n",
      " 5087: t=5.699850e-13, dt=1.944247e-12\n",
      " 5152: t=2.514232e-12, dt=1.944247e-12\n",
      " 5216: t=4.458479e-12, dt=1.944247e-12\n",
      " 5281: t=6.402726e-12, dt=1.944247e-12\n",
      " 5346: t=8.346972e-12, dt=1.944247e-12\n",
      " 5411: t=1.029122e-11, dt=1.944247e-12\n",
      " 5474: t=1.223547e-11, dt=1.944247e-12\n",
      " 5541: t=1.417971e-11, dt=1.944247e-12\n",
      " 5605: t=1.612396e-11, dt=1.944247e-12\n",
      " 5670: t=1.806821e-11, dt=1.944247e-12\n",
      " 5735: t=2.001245e-11, dt=1.944247e-12\n",
      " 5800: t=2.195670e-11, dt=1.944247e-12\n",
      " 5865: t=2.390095e-11, dt=1.944247e-12\n",
      " 5930: t=2.584519e-11, dt=1.944247e-12\n",
      " 5996: t=2.778944e-11, dt=1.944247e-12\n",
      " 6059: t=2.973369e-11, dt=1.944247e-12\n",
      " 6124: t=3.167793e-11, dt=1.944247e-12\n",
      " 6190: t=3.362218e-11, dt=1.944247e-12\n",
      " 6254: t=3.556643e-11, dt=1.944247e-12\n",
      " 6318: t=3.751068e-11, dt=1.944247e-12\n",
      " 6383: t=3.945492e-11, dt=1.944247e-12\n",
      " 6448: t=4.139917e-11, dt=1.944247e-12\n",
      " 6512: t=4.334342e-11, dt=1.944247e-12\n",
      " 6579: t=4.528766e-11, dt=1.944247e-12\n",
      " 6642: t=4.723191e-11, dt=1.944247e-12\n",
      " 6707: t=4.917616e-11, dt=1.944247e-12\n",
      " 6773: t=5.112040e-11, dt=1.944247e-12\n",
      " 6837: t=5.306465e-11, dt=1.944247e-12\n",
      " 6902: t=5.500890e-11, dt=1.944247e-12\n",
      " 6966: t=5.695314e-11, dt=1.944247e-12\n",
      " 7032: t=5.889739e-11, dt=1.944247e-12\n",
      " 7095: t=6.084164e-11, dt=1.944247e-12\n",
      " 7162: t=6.278588e-11, dt=1.944247e-12\n",
      " 7225: t=6.473013e-11, dt=1.944247e-12\n",
      " 7290: t=6.667438e-11, dt=1.944247e-12\n",
      " 7355: t=6.861863e-11, dt=1.944247e-12\n",
      " 7420: t=7.056287e-11, dt=1.944247e-12\n",
      " 7485: t=7.250712e-11, dt=1.944247e-12\n",
      " 7548: t=7.445137e-11, dt=1.944247e-12\n",
      " 7615: t=7.639561e-11, dt=1.944247e-12\n",
      " 7679: t=7.833986e-11, dt=1.944247e-12\n",
      " 7744: t=8.028411e-11, dt=1.944247e-12\n",
      " 7809: t=8.222835e-11, dt=1.944247e-12\n",
      " 7873: t=8.417260e-11, dt=1.944247e-12\n",
      " 7938: t=8.611685e-11, dt=1.944247e-12\n",
      " 8003: t=8.806109e-11, dt=1.944247e-12\n",
      " 8068: t=9.000534e-11, dt=1.944247e-12\n",
      " 8131: t=9.194959e-11, dt=1.944247e-12\n",
      " 8198: t=9.389383e-11, dt=1.944247e-12\n",
      " 8262: t=9.583808e-11, dt=1.944247e-12\n",
      " 8327: t=9.778233e-11, dt=1.944247e-12\n",
      " 8392: t=9.972657e-11, dt=1.944247e-12\n",
      " 8456: t=1.016708e-10, dt=1.944247e-12\n",
      " 8522: t=1.036151e-10, dt=1.944247e-12\n",
      " 8586: t=1.055593e-10, dt=1.944247e-12\n",
      " 8652: t=1.075036e-10, dt=1.944247e-12\n",
      " 8715: t=1.094478e-10, dt=1.944247e-12\n",
      " 8780: t=1.113921e-10, dt=1.944247e-12\n",
      " 8845: t=1.133363e-10, dt=1.944247e-12\n",
      " 8910: t=1.152805e-10, dt=1.944247e-12\n",
      " 8974: t=1.172248e-10, dt=1.944247e-12\n",
      " 9039: t=1.191690e-10, dt=1.944247e-12\n",
      " 9105: t=1.211133e-10, dt=1.944247e-12\n",
      " 9168: t=1.230575e-10, dt=1.944247e-12\n",
      " 9235: t=1.250018e-10, dt=1.944247e-12\n",
      " 9298: t=1.269460e-10, dt=1.944247e-12\n",
      " 9364: t=1.288903e-10, dt=1.944247e-12\n",
      " 9429: t=1.308345e-10, dt=1.944247e-12\n",
      " 9493: t=1.327788e-10, dt=1.944247e-12\n",
      " 9558: t=1.347230e-10, dt=1.944247e-12\n",
      " 9622: t=1.366673e-10, dt=1.944247e-12\n",
      " 9688: t=1.386115e-10, dt=1.944247e-12\n",
      " 9751: t=1.405558e-10, dt=1.944247e-12\n",
      " 9818: t=1.425000e-10, dt=1.944247e-12\n",
      " 9881: t=1.444443e-10, dt=1.944247e-12\n",
      " 9947: t=1.463885e-10, dt=1.944247e-12\n",
      "10000: t=1.483327e-10, dt=1.944247e-12\n",
      "10000: t=1.502770e-10, dt=1.944247e-12\n",
      "10000: t=1.522212e-10, dt=9.721234e-12\n",
      "10000: t=1.619425e-10, dt=2.492916e-11\n",
      "10000: t=1.868716e-10, dt=5.746133e-11\n",
      "10000: t=2.443330e-10, dt=1.000000e-10\n",
      "10000: t=2.443330e-10, dt=7.476617e-11\n",
      "10000: t=3.190991e-10, dt=8.170583e-11\n",
      "10000: t=3.190991e-10, dt=6.065582e-11\n",
      "10000: t=3.797550e-10, dt=5.994527e-11\n",
      "10000: t=4.397002e-10, dt=5.995490e-11\n",
      "10000: t=4.996551e-10, dt=5.990714e-11\n",
      "10000: t=5.595623e-10, dt=6.000195e-11\n",
      "10000: t=6.195642e-10, dt=5.994883e-11\n",
      "10000: t=6.795130e-10, dt=6.130885e-11\n",
      "10000: t=7.408219e-10, dt=8.027504e-11\n",
      "10000: t=8.210969e-10, dt=1.000000e-10\n",
      "10000: t=9.210969e-10, dt=1.000000e-10\n",
      "10000: t=1.021097e-09, dt=1.000000e-10\n",
      "10000: t=1.121097e-09, dt=1.000000e-10\n",
      "10000: t=1.221097e-09, dt=1.000000e-10\n",
      "10000: t=1.321097e-09, dt=1.000000e-10\n",
      "10000: t=1.421097e-09, dt=1.000000e-10\n",
      "10000: t=1.521097e-09, dt=1.000000e-10\n",
      "10000: t=1.621097e-09, dt=1.000000e-10\n",
      "10000: t=1.721097e-09, dt=1.000000e-10\n",
      "10000: t=1.821097e-09, dt=1.000000e-10\n",
      "10000: t=1.921097e-09, dt=1.000000e-10\n",
      "10000: t=2.021097e-09, dt=1.000000e-10\n",
      "10000: t=2.121097e-09, dt=1.000000e-10\n",
      "10000: t=2.221097e-09, dt=1.000000e-10\n",
      "10000: t=2.321097e-09, dt=1.000000e-10\n",
      "10000: t=2.421097e-09, dt=1.000000e-10\n",
      "10000: t=2.521097e-09, dt=1.000000e-10\n",
      "10000: t=2.621097e-09, dt=1.000000e-10\n",
      "10000: t=2.721097e-09, dt=1.000000e-10\n",
      "10000: t=2.821097e-09, dt=1.000000e-10\n",
      "10000: t=2.921097e-09, dt=1.000000e-10\n",
      "10000: t=3.021097e-09, dt=1.000000e-10\n",
      "10000: t=3.121097e-09, dt=1.000000e-10\n",
      "10000: t=3.221097e-09, dt=1.000000e-10\n",
      "10000: t=3.321097e-09, dt=1.000000e-10\n",
      "10000: t=3.421097e-09, dt=1.000000e-10\n",
      "10000: t=3.521097e-09, dt=1.000000e-10\n",
      "10000: t=3.621097e-09, dt=1.000000e-10\n",
      "10000: t=3.721097e-09, dt=1.000000e-10\n",
      "10000: t=3.821097e-09, dt=1.000000e-10\n",
      "10000: t=3.921097e-09, dt=1.000000e-10\n",
      "10000: t=4.021097e-09, dt=1.000000e-10\n",
      "10000: t=4.121097e-09, dt=1.000000e-10\n",
      "10000: t=4.221097e-09, dt=1.000000e-10\n",
      "10000: t=4.321097e-09, dt=1.000000e-10\n",
      "10000: t=4.421097e-09, dt=1.000000e-10\n",
      "10000: t=4.521097e-09, dt=1.000000e-10\n",
      "10000: t=4.621097e-09, dt=1.000000e-10\n",
      "10000: t=4.721097e-09, dt=1.000000e-10\n",
      "10000: t=4.821097e-09, dt=1.000000e-10\n",
      "10000: t=4.921097e-09, dt=1.000000e-10\n",
      "10000: t=5.021097e-09, dt=1.000000e-10\n",
      "10000: t=5.121097e-09, dt=1.000000e-10\n",
      "10000: t=5.221097e-09, dt=1.000000e-10\n",
      "10000: t=5.321097e-09, dt=1.000000e-10\n",
      "10000: t=5.421097e-09, dt=1.000000e-10\n",
      "10000: t=5.521097e-09, dt=1.000000e-10\n",
      "10000: t=5.621097e-09, dt=1.000000e-10\n",
      "10000: t=5.721097e-09, dt=1.000000e-10\n",
      "10000: t=5.821097e-09, dt=1.000000e-10\n",
      "10000: t=5.921097e-09, dt=1.000000e-10\n",
      "10000: t=6.021097e-09, dt=1.000000e-10\n",
      "10000: t=6.121097e-09, dt=1.000000e-10\n",
      "10000: t=6.221097e-09, dt=1.000000e-10\n",
      "10000: t=6.321097e-09, dt=1.000000e-10\n",
      "10000: t=6.421097e-09, dt=1.000000e-10\n",
      "10000: t=6.521097e-09, dt=1.000000e-10\n",
      "10000: t=6.621097e-09, dt=1.000000e-10\n",
      "10000: t=6.721097e-09, dt=1.000000e-10\n",
      "10000: t=6.821097e-09, dt=1.000000e-10\n",
      "10000: t=6.921097e-09, dt=1.000000e-10\n",
      "10000: t=7.021097e-09, dt=1.000000e-10\n",
      "10000: t=7.121097e-09, dt=1.000000e-10\n",
      "10000: t=7.221097e-09, dt=1.000000e-10\n",
      "10000: t=7.321097e-09, dt=1.000000e-10\n",
      "10000: t=7.421097e-09, dt=1.000000e-10\n",
      "10000: t=7.521097e-09, dt=1.000000e-10\n",
      "10000: t=7.621097e-09, dt=1.000000e-10\n",
      "10000: t=7.721097e-09, dt=1.000000e-10\n",
      "10000: t=7.821097e-09, dt=1.000000e-10\n",
      "10000: t=7.921097e-09, dt=1.000000e-10\n",
      "10000: t=8.021097e-09, dt=1.000000e-10\n",
      "10000: t=8.121097e-09, dt=1.000000e-10\n",
      "10000: t=8.221097e-09, dt=1.000000e-10\n",
      "10000: t=8.321097e-09, dt=1.000000e-10\n",
      "10000: t=8.421097e-09, dt=1.000000e-10\n",
      "10000: t=8.521097e-09, dt=1.000000e-10\n",
      "10000: t=8.621097e-09, dt=1.000000e-10\n",
      "10000: t=8.721097e-09, dt=1.000000e-10\n",
      "10000: t=8.821097e-09, dt=1.000000e-10\n",
      "10000: t=8.921097e-09, dt=1.000000e-10\n",
      "10000: t=9.021097e-09, dt=1.000000e-10\n",
      "10000: t=9.121097e-09, dt=1.000000e-10\n",
      "10000: t=9.221097e-09, dt=1.000000e-10\n",
      "10000: t=9.321097e-09, dt=1.000000e-10\n",
      "10000: t=9.421097e-09, dt=1.000000e-10\n",
      "10000: t=9.521097e-09, dt=1.000000e-10\n",
      "10000: t=9.621097e-09, dt=1.000000e-10\n",
      "10000: t=9.721097e-09, dt=1.000000e-10\n",
      "10000: t=9.821097e-09, dt=1.000000e-10\n",
      "10000: t=9.921097e-09, dt=1.000000e-10\n",
      "10000: t=1.002110e-08, dt=1.000000e-10\n",
      "10000: t=1.012110e-08, dt=1.000000e-10\n",
      "10000: t=1.022110e-08, dt=1.000000e-10\n",
      "10000: t=1.032110e-08, dt=1.000000e-10\n",
      "10000: t=1.042110e-08, dt=1.000000e-10\n",
      "10000: t=1.052110e-08, dt=1.000000e-10\n",
      "10000: t=1.062110e-08, dt=1.000000e-10\n",
      "10000: t=1.072110e-08, dt=1.000000e-10\n",
      "10000: t=1.082110e-08, dt=1.000000e-10\n",
      "10000: t=1.092110e-08, dt=1.000000e-10\n",
      "10000: t=1.102110e-08, dt=1.000000e-10\n",
      "10000: t=1.112110e-08, dt=1.000000e-10\n",
      "10000: t=1.122110e-08, dt=1.000000e-10\n",
      "10000: t=1.132110e-08, dt=1.000000e-10\n",
      "10000: t=1.142110e-08, dt=1.000000e-10\n",
      "10000: t=1.152110e-08, dt=1.000000e-10\n",
      "10000: t=1.162110e-08, dt=1.000000e-10\n",
      "10000: t=1.172110e-08, dt=1.000000e-10\n",
      "10000: t=1.182110e-08, dt=1.000000e-10\n",
      "10000: t=1.192110e-08, dt=1.000000e-10\n",
      "10000: t=1.202110e-08, dt=1.000000e-10\n",
      "10000: t=1.212110e-08, dt=1.000000e-10\n",
      "10000: t=1.222110e-08, dt=1.000000e-10\n",
      "10000: t=1.232110e-08, dt=1.000000e-10\n",
      "10000: t=1.242110e-08, dt=1.000000e-10\n",
      "10000: t=1.252110e-08, dt=1.000000e-10\n",
      "10000: t=1.262110e-08, dt=1.000000e-10\n",
      "10000: t=1.272110e-08, dt=1.000000e-10\n",
      "10000: t=1.282110e-08, dt=1.000000e-10\n",
      "10000: t=1.292110e-08, dt=1.000000e-10\n",
      "10000: t=1.302110e-08, dt=1.000000e-10\n",
      "10000: t=1.312110e-08, dt=1.000000e-10\n",
      "10000: t=1.322110e-08, dt=1.000000e-10\n",
      "Particle(s) killed: 2837 t=1.322110e-08, dt=1.000000e-10\n",
      " 7163: t=1.332110e-08, dt=1.000000e-10\n",
      "Particle(s) killed: 3362 t=1.332110e-08, dt=1.000000e-10\n",
      " 3801: t=1.342110e-08, dt=1.000000e-10\n",
      "Particle(s) killed: 3351 t=1.342110e-08, dt=1.000000e-10\n",
      "  450: t=1.352110e-08, dt=1.000000e-10\n",
      "Particle(s) killed: 450 t=1.352110e-08, dt=1.000000e-10\n",
      "    0: t=1.362110e-08, dt=1.000000e-10\n",
      "Saving 10000 particles at screen 2.736\n",
      "   Loading GPT data from /tmp/tmppeuk50py/beamline_wo_distgen.out.gdf\n",
      "   GDF data loaded, time ellapsed: 0.00411844 (sec).\n",
      "   Converting tout and screen data to ParticleGroup(s)\n",
      "   Run finished, total time ellapsed: 3.10976 (sec)\n",
      "dict_keys(['particles', 'n_tout', 'n_screen', 'start_time', 'run_time', 'run_error'])\n",
      "\n",
      "GPT object:\n",
      "   Original input file: beamline_wo_distgen.in\n",
      "   Template location: /nfs/user/jb2483/big_gun/beamline\n",
      "   Use temp directory: True\n",
      "\n",
      "Run Control\n",
      "   Run configured: True\n",
      "   Work location: /tmp/tmppeuk50py\n",
      "   Timeout: None (sec)\n",
      "\n",
      "Results\n",
      "   Finished: True\n",
      "   Error occured: False\n",
      "   Run time: 3.109757661819458 (sec)\n"
     ]
    },
    {
     "data": {
      "text/plain": [
       "[<matplotlib.lines.Line2D at 0x7f9393fe98e0>]"
      ]
     },
     "execution_count": 4,
     "metadata": {},
     "output_type": "execute_result"
    },
    {
     "data": {
      "image/png": "[encoded data removed]",
      "text/plain": [
       "<Figure size 720x432 with 1 Axes>"
      ]
     },
     "metadata": {
      "needs_background": "light"
     },
     "output_type": "display_data"
    }
   ],
   "source": [
    "G.run(gpt_verbose=True)\n",
    "print(G.output.keys())\n",
    "print(G)\n",
    "plt.plot(G.stat(\"sigma_x\", \"screen\"))\n",
    "# See https://github.com/ColwynGulliford/lume-gpt/blob/22112cbf22ae3ff1fa8c36d3a6572b4a743ddb3d/gpt/merit.py#L45 for available keys"
   ]
  },
  {
   "cell_type": "code",
   "execution_count": 5,
   "id": "7caada25",
   "metadata": {
    "execution": {
     "iopub.execute_input": "2021-04-05T20:49:14.363548Z",
     "iopub.status.busy": "2021-04-05T20:49:14.363318Z",
     "iopub.status.idle": "2021-04-05T20:49:14.372566Z",
     "shell.execute_reply": "2021-04-05T20:49:14.371944Z",
     "shell.execute_reply.started": "2021-04-05T20:49:14.363505Z"
    },
    "tags": []
   },
   "outputs": [
    {
     "data": {
      "text/plain": [
       "{'distgen': 0.0,\n",
       " 'radius': 0.0007,\n",
       " 'tlen': 3e-10,\n",
       " 'RadiusMax': 1.0,\n",
       " 'dtmax': 1e-10,\n",
       " 'gun_voltage': 200.0,\n",
       " 'Maxdcgun': 500.0,\n",
       " 'sol01_current': 2.8,\n",
       " 'ZSLA01': 0.338,\n",
       " 'sol02_current': 3.0,\n",
       " 'ZSLA02': 2.33,\n",
       " 'SLAPolarity': 1.0,\n",
       " 'space_charge': 0.0,\n",
       " 'space_charge_type': 1.0,\n",
       " 'Alpha': 1.0,\n",
       " 'Fn': 0.5,\n",
       " 'verror': 0.005,\n",
       " 'Nstd': 5.0,\n",
       " 'tree_code_theta': 1.0,\n",
       " 'tree_code_R': 1e-06,\n",
       " 'npts': 20.0,\n",
       " 'tend': 1.6e-08,\n",
       " 'zend': 2.736,\n",
       " 'zstart': -1e-06}"
      ]
     },
     "execution_count": 5,
     "metadata": {},
     "output_type": "execute_result"
    }
   ],
   "source": [
    "G = GPT(input_file=\"beamline/beamline_wo_distgen.in\", verbose=False)\n",
    "G.set_variables({\"distgen\": 0.0})\n",
    "G.input[\"variables\"]"
   ]
  },
  {
   "cell_type": "code",
   "execution_count": 6,
   "id": "6dabc84b",
   "metadata": {
    "execution": {
     "iopub.execute_input": "2021-04-05T20:49:15.174308Z",
     "iopub.status.busy": "2021-04-05T20:49:15.173779Z",
     "iopub.status.idle": "2021-04-05T20:50:15.743435Z",
     "shell.execute_reply": "2021-04-05T20:50:15.741577Z",
     "shell.execute_reply.started": "2021-04-05T20:49:15.174244Z"
    },
    "tags": []
   },
   "outputs": [
    {
     "name": "stdout",
     "output_type": "stream",
     "text": [
      "0.0\n",
      "0.21052631578947367\n",
      "0.42105263157894735\n",
      "0.631578947368421\n",
      "0.8421052631578947\n",
      "1.0526315789473684\n",
      "1.263157894736842\n",
      "1.4736842105263157\n",
      "1.6842105263157894\n",
      "1.894736842105263\n",
      "2.1052631578947367\n",
      "2.3157894736842106\n",
      "2.526315789473684\n",
      "2.7368421052631575\n",
      "2.9473684210526314\n",
      "3.1578947368421053\n",
      "3.3684210526315788\n",
      "3.578947368421052\n",
      "3.789473684210526\n",
      "4.0\n"
     ]
    }
   ],
   "source": [
    "# Solenoid 2 current vs beam size at screen 3\n",
    "sol2_current = np.linspace(0, 4, num=20)\n",
    "sig_x = np.array([])\n",
    "for isol in sol2_current:\n",
    "    print(isol)\n",
    "    set_variables = G.set_variables({\"sol02_current\": isol, \"distgen\": 0})\n",
    "    G.run(gpt_verbose=False)\n",
    "    sig_x = np.append(sig_x, G.stat(\"sigma_x\", \"screen\"))"
   ]
  },
  {
   "cell_type": "code",
   "execution_count": 8,
   "id": "60175c7d",
   "metadata": {
    "execution": {
     "iopub.execute_input": "2021-04-05T20:52:51.403109Z",
     "iopub.status.busy": "2021-04-05T20:52:51.402457Z",
     "iopub.status.idle": "2021-04-05T20:52:51.784617Z",
     "shell.execute_reply": "2021-04-05T20:52:51.783411Z",
     "shell.execute_reply.started": "2021-04-05T20:52:51.403033Z"
    },
    "tags": []
   },
   "outputs": [
    {
     "data": {
      "text/plain": [
       "<matplotlib.legend.Legend at 0x7f9393ec6e80>"
      ]
     },
     "execution_count": 8,
     "metadata": {},
     "output_type": "execute_result"
    },
    {
     "data": {
      "image/png": "[encoded data removed]",
      "text/plain": [
       "<Figure size 720x432 with 1 Axes>"
      ]
     },
     "metadata": {
      "needs_background": "light"
     },
     "output_type": "display_data"
    }
   ],
   "source": [
    "plt.plot(sol2_current, sig_x, label=\"simulation\")\n",
    "plt.plot(exp_data[\"sol\"], np.transpose(exp_data[\"sx\"]), label=\"Experiment x\")\n",
    "plt.plot(exp_data[\"sol\"], np.transpose(exp_data[\"sy\"]), label=\"Experiment y\")\n",
    "plt.xlabel(\"Solenoid 2 current (A)\")\n",
    "plt.ylabel(r\"$\\sigma$ (m)\")\n",
    "plt.legend()"
   ]
  },
  {
   "cell_type": "code",
   "execution_count": 12,
   "id": "fdef3dc7",
   "metadata": {
    "execution": {
     "iopub.execute_input": "2021-04-04T13:28:36.919874Z",
     "iopub.status.busy": "2021-04-04T13:28:36.919636Z",
     "iopub.status.idle": "2021-04-04T13:28:36.928781Z",
     "shell.execute_reply": "2021-04-04T13:28:36.927549Z",
     "shell.execute_reply.started": "2021-04-04T13:28:36.919836Z"
    },
    "tags": []
   },
   "outputs": [
    {
     "data": {
      "text/plain": [
       "array([1.77372395e-03, 1.76266809e-03, 1.72955703e-03, 1.67446231e-03,\n",
       "       1.59750260e-03, 1.49884362e-03, 1.37869803e-03, 1.23732569e-03,\n",
       "       1.07503434e-03, 8.92182641e-04, 6.89189887e-04, 4.66580022e-04,\n",
       "       2.25334987e-04, 4.69668139e-05, 3.17836260e-04, 6.13991903e-04,\n",
       "       9.27516191e-04, 1.25745168e-03, 1.60302575e-03, 1.96347260e-03])"
      ]
     },
     "execution_count": 12,
     "metadata": {},
     "output_type": "execute_result"
    }
   ],
   "source": [
    "sig_x"
   ]
  }
 ],
 "metadata": {
  "kernelspec": {
   "display_name": "Python 3",
   "language": "python",
   "name": "python3"
  },
  "language_info": {
   "codemirror_mode": {
    "name": "ipython",
    "version": 3
   },
   "file_extension": ".py",
   "mimetype": "text/x-python",
   "name": "python",
   "nbconvert_exporter": "python",
   "pygments_lexer": "ipython3",
   "version": "3.9.2"
  }
 },
 "nbformat": 4,
 "nbformat_minor": 5
}
